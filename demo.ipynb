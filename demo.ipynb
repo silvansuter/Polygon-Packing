{
 "cells": [
  {
   "cell_type": "code",
   "execution_count": 1,
   "metadata": {},
   "outputs": [],
   "source": [
    "from Packing_Algorithms.rectangle_packing import *\n",
    "from Packing_Algorithms.polygon_packing import *\n",
    "from Plotting.plotting import *\n",
    "\n",
    "import random"
   ]
  },
  {
   "cell_type": "markdown",
   "metadata": {},
   "source": [
    "This notebook provides a short demonstration on how to use the functions in this repository."
   ]
  },
  {
   "cell_type": "markdown",
   "metadata": {},
   "source": [
    "# Produce a Random Instance of Polygons"
   ]
  },
  {
   "cell_type": "markdown",
   "metadata": {},
   "source": [
    "For demonstration purposes, we first generate an instance of random convex polygons. Our algorithm takes as argument a list of convex polygons, each one defined as a list of its vertices."
   ]
  },
  {
   "cell_type": "code",
   "execution_count": 2,
   "metadata": {},
   "outputs": [],
   "source": [
    "# Set the amount of polygons we want to generate\n",
    "n = 300\n",
    "\n",
    "# Set the parameter 'c', that influences the width of the strip.\n",
    "c = 15\n",
    "\n",
    "# Set the minimum and maximum number of vertices each of the randomly generated polygons should have\n",
    "min_vert = 3\n",
    "max_vert = 7\n",
    "\n",
    "# Randomly generate a set of polygons with min_vert to max_vert vertices each.\n",
    "polygons = [[(random.random()/5, random.random()/5) for j in range(random.randint(min_vert, max_vert))] for i in range(n)]\n",
    "\n",
    "# Translate all polygons so that they touch both the x=0 and y=0 axis. Our algorithm needs this standardization.\n",
    "polygons = [left_bottom_adjust_polygon(polygon) for polygon in polygons]"
   ]
  },
  {
   "cell_type": "code",
   "execution_count": 3,
   "metadata": {},
   "outputs": [
    {
     "data": {
      "text/plain": [
       "[(0.05474206533984191, 0.10106648361925054),\n",
       " (0.0796209913513425, 0.04759271615749885),\n",
       " (0.04373375398333931, 0.0),\n",
       " (0.0, 0.04510448409251664),\n",
       " (0.15686622189395016, 0.15822938429462238)]"
      ]
     },
     "execution_count": 3,
     "metadata": {},
     "output_type": "execute_result"
    }
   ],
   "source": [
    "# Each polygon is given as a list of its vertices. Each vertex is given as a tuple of non-negative real numbers\n",
    "polygons[int(n/2)]"
   ]
  },
  {
   "cell_type": "markdown",
   "metadata": {},
   "source": [
    "# Compute a Packing of the Polygons using our Algorithm"
   ]
  },
  {
   "cell_type": "markdown",
   "metadata": {},
   "source": [
    "We now use our main algorithm to pack the produced instance of polygons."
   ]
  },
  {
   "cell_type": "code",
   "execution_count": 4,
   "metadata": {},
   "outputs": [],
   "source": [
    "# The function 'polygon_packing' provides our main algorithm. The parameter 'rectangle_strip_packing_algorithm' can be set to either 'nfdh' or 'ffdh', depending on which rectangle shelf-packing algorithm should be used as a subroutine.\n",
    "packed_polygons, bounding_parallelograms, width, height = polygon_packing(polygons, c=c, rectangle_strip_packing_algorithm=\"ffdh\")"
   ]
  },
  {
   "cell_type": "markdown",
   "metadata": {},
   "source": [
    "Outputs of the function are the polygons with their location in the packing, the bounding parallelograms of the polygons, as well as the total width and height of the packing."
   ]
  },
  {
   "cell_type": "code",
   "execution_count": 5,
   "metadata": {},
   "outputs": [
    {
     "data": {
      "text/plain": [
       "[(3.1449491694610288, 0.6406798962948452),\n",
       " (3.1698280954725293, 0.5872061288330935),\n",
       " (3.133940858104526, 0.5396134126755947),\n",
       " (3.0902071041211867, 0.5847178967681114),\n",
       " (3.247073326015137, 0.6978427969702171)]"
      ]
     },
     "execution_count": 5,
     "metadata": {},
     "output_type": "execute_result"
    }
   ],
   "source": [
    "# Each polygon is again given as list of its vertices, however now translated to where it lies in the packing produced by the algorithm.\n",
    "packed_polygons[int(n/2)]"
   ]
  },
  {
   "cell_type": "markdown",
   "metadata": {},
   "source": [
    "# Visualize the Packing"
   ]
  },
  {
   "cell_type": "markdown",
   "metadata": {},
   "source": [
    "Finally, we can call a function to plot the produced packing."
   ]
  },
  {
   "cell_type": "code",
   "execution_count": 6,
   "metadata": {},
   "outputs": [],
   "source": [
    "# The function 'visualize_polygons' can now be called to plot the packing. One may choose to leave away the parameter 'bounding_parallelograms' if the bounding-parallelograms should not be plotted.\n",
    "visualize_polygons(packed_polygons, bounding_parallelograms = bounding_parallelograms, binsize = (width,height), file_name = 'demo_packing')"
   ]
  }
 ],
 "metadata": {
  "kernelspec": {
   "display_name": "Python 3.10.9 ('base')",
   "language": "python",
   "name": "python3"
  },
  "language_info": {
   "codemirror_mode": {
    "name": "ipython",
    "version": 3
   },
   "file_extension": ".py",
   "mimetype": "text/x-python",
   "name": "python",
   "nbconvert_exporter": "python",
   "pygments_lexer": "ipython3",
   "version": "3.10.9"
  },
  "orig_nbformat": 4,
  "vscode": {
   "interpreter": {
    "hash": "614dcdd32926976a05983c5bce2277fee3df10f9f9f6a676ec0fdda0951fd4a7"
   }
  }
 },
 "nbformat": 4,
 "nbformat_minor": 2
}
